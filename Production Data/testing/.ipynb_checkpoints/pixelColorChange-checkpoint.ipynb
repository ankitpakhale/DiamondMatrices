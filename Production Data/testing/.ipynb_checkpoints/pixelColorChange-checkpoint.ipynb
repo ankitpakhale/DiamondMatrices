{
 "cells": [
  {
   "cell_type": "code",
   "execution_count": 60,
   "id": "3c711eb7",
   "metadata": {},
   "outputs": [],
   "source": [
    "import cv2\n",
    "import numpy as np\n",
    "from PIL import Image\n",
    "from skimage.feature import corner_harris, corner_subpix, corner_peaks\n",
    "\n",
    "from PIL import Image\n",
    "from numpy import asarray"
   ]
  },
  {
   "cell_type": "code",
   "execution_count": 61,
   "id": "108193d1",
   "metadata": {},
   "outputs": [],
   "source": [
    "img = Image.open(\"147.jpg\")"
   ]
  },
  {
   "cell_type": "code",
   "execution_count": 62,
   "id": "49b30410",
   "metadata": {},
   "outputs": [
    {
     "data": {
      "text/plain": [
       "(1280, 1024)"
      ]
     },
     "execution_count": 62,
     "metadata": {},
     "output_type": "execute_result"
    }
   ],
   "source": [
    "numpydata = asarray(img)\n",
    "numpydata.shape"
   ]
  },
  {
   "cell_type": "code",
   "execution_count": 63,
   "id": "55ac4265",
   "metadata": {},
   "outputs": [
    {
     "data": {
      "text/plain": [
       "array([[ 0,  0,  0, ...,  0,  0,  0],\n",
       "       [12,  0,  0, ..., 14, 14, 13],\n",
       "       [11,  0,  0, ..., 12, 12, 11],\n",
       "       ...,\n",
       "       [28,  6,  4, ..., 30, 28, 27],\n",
       "       [25,  5,  4, ..., 25, 25, 24],\n",
       "       [19,  1,  2, ..., 14, 16, 18]], dtype=uint8)"
      ]
     },
     "execution_count": 63,
     "metadata": {},
     "output_type": "execute_result"
    }
   ],
   "source": [
    "numpydata_copy = numpydata.copy()\n",
    "numpydata_copy[0] = [0]*len(numpydata_copy[0])\n",
    "numpydata_copy"
   ]
  },
  {
   "cell_type": "code",
   "execution_count": 64,
   "id": "ffd9c70c",
   "metadata": {},
   "outputs": [],
   "source": [
    "start_index = int(len(numpydata_copy)/5)\n",
    "stop_index = int(len(numpydata_copy)/8)\n",
    "\n",
    "for i in range(start_index, stop_index, -1):\n",
    "    numpydata_copy[i] = [0]*len(numpydata_copy[i])"
   ]
  },
  {
   "cell_type": "code",
   "execution_count": 65,
   "id": "5ae019f5",
   "metadata": {},
   "outputs": [],
   "source": [
    "new_numpydata_copy = Image.fromarray(numpydata_copy)\n",
    "new_numpydata_copy.save('147Edit.png')"
   ]
  },
  {
   "cell_type": "code",
   "execution_count": null,
   "id": "526ffcf3",
   "metadata": {},
   "outputs": [],
   "source": []
  },
  {
   "cell_type": "code",
   "execution_count": null,
   "id": "55c25b09",
   "metadata": {},
   "outputs": [],
   "source": []
  }
 ],
 "metadata": {
  "kernelspec": {
   "display_name": "Python 3 (ipykernel)",
   "language": "python",
   "name": "python3"
  },
  "language_info": {
   "codemirror_mode": {
    "name": "ipython",
    "version": 3
   },
   "file_extension": ".py",
   "mimetype": "text/x-python",
   "name": "python",
   "nbconvert_exporter": "python",
   "pygments_lexer": "ipython3",
   "version": "3.9.13"
  }
 },
 "nbformat": 4,
 "nbformat_minor": 5
}
