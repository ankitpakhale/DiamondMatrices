{
 "cells": [
  {
   "cell_type": "code",
   "execution_count": 2,
   "id": "3a7a60ff",
   "metadata": {},
   "outputs": [],
   "source": [
    "import cv2\n",
    "import numpy as np\n",
    "from PIL import Image\n",
    "from skimage.feature import corner_harris, corner_subpix, corner_peaks\n"
   ]
  },
  {
   "cell_type": "code",
   "execution_count": 3,
   "id": "21e03af1",
   "metadata": {},
   "outputs": [],
   "source": [
    "img = cv2.imread(\"147.jpg\")"
   ]
  },
  {
   "cell_type": "code",
   "execution_count": 4,
   "id": "d37c7daf",
   "metadata": {},
   "outputs": [
    {
     "name": "stdout",
     "output_type": "stream",
     "text": [
      "(1280, 1024, 3)\n"
     ]
    }
   ],
   "source": [
    "print(img.shape)\n",
    "# The image with shape (1280, 1024, 3) has a resolution of 1280 pixels by 1024 pixels and has 3 color channels, which means it is a color image."
   ]
  },
  {
   "cell_type": "code",
   "execution_count": 5,
   "id": "2587c6d8",
   "metadata": {},
   "outputs": [
    {
     "name": "stdout",
     "output_type": "stream",
     "text": [
      "3932160\n"
     ]
    }
   ],
   "source": [
    "print(img.size)\n"
   ]
  },
  {
   "cell_type": "code",
   "execution_count": 6,
   "id": "6c433279",
   "metadata": {},
   "outputs": [],
   "source": [
    "gray_img = cv2.cvtColor(img, cv2.COLOR_BGR2GRAY)"
   ]
  },
  {
   "cell_type": "code",
   "execution_count": 7,
   "id": "78d31e42",
   "metadata": {},
   "outputs": [],
   "source": [
    "blur_img = cv2.GaussianBlur(gray_img, (5, 5), 0)"
   ]
  },
  {
   "cell_type": "code",
   "execution_count": 8,
   "id": "2c6d0a12",
   "metadata": {},
   "outputs": [
    {
     "data": {
      "text/plain": [
       "array([[ 5.25046409e-07,  6.37126749e-07,  1.87674659e-07, ...,\n",
       "         8.41628209e-06,  6.84258877e-05,  6.68851401e-05],\n",
       "       [ 4.60584155e-07,  5.49769319e-07,  1.71791356e-07, ...,\n",
       "         1.60742806e-05,  7.40552337e-05,  7.29489797e-05],\n",
       "       [ 6.05980174e-08,  2.16746674e-08, -3.72703946e-08, ...,\n",
       "         5.59365150e-06,  1.93729362e-05,  1.44620127e-05],\n",
       "       ...,\n",
       "       [ 3.86350126e-06,  5.77160266e-06,  2.20002774e-06, ...,\n",
       "         9.40897948e-05,  2.86784645e-04,  1.33325008e-04],\n",
       "       [ 2.29084823e-05,  2.75182483e-05,  9.74893105e-06, ...,\n",
       "         1.89039629e-04,  7.85309431e-04,  6.54708938e-04],\n",
       "       [ 2.13651664e-05,  2.52299363e-05,  7.65693018e-06, ...,\n",
       "         7.07204792e-05,  6.11960224e-04,  5.41022314e-04]])"
      ]
     },
     "execution_count": 8,
     "metadata": {},
     "output_type": "execute_result"
    }
   ],
   "source": [
    "# Compute Harris corners\n",
    "corners = corner_harris(blur_img, k=0.04)\n",
    "corners"
   ]
  },
  {
   "cell_type": "code",
   "execution_count": 9,
   "id": "bef2330a",
   "metadata": {},
   "outputs": [
    {
     "ename": "ValueError",
     "evalue": "Integer argument required but received [[6.00000053 6.00000064 6.00000019 ... 6.00000842 6.00006843 6.00006689]\n [6.00000046 6.00000055 6.00000017 ... 6.00001607 6.00007406 6.00007295]\n [6.00000006 6.00000002 5.99999996 ... 6.00000559 6.00001937 6.00001446]\n ...\n [6.00000386 6.00000577 6.0000022  ... 6.00009409 6.00028678 6.00013333]\n [6.00002291 6.00002752 6.00000975 ... 6.00018904 6.00078531 6.00065471]\n [6.00002137 6.00002523 6.00000766 ... 6.00007072 6.00061196 6.00054102]], check inputs.",
     "output_type": "error",
     "traceback": [
      "\u001b[1;31m---------------------------------------------------------------------------\u001b[0m",
      "\u001b[1;31mAssertionError\u001b[0m                            Traceback (most recent call last)",
      "\u001b[1;32mC:\\ProgramData\\Anaconda3\\lib\\site-packages\\skimage\\_shared\\utils.py\u001b[0m in \u001b[0;36msafe_as_int\u001b[1;34m(val, atol)\u001b[0m\n\u001b[0;32m    557\u001b[0m     \u001b[1;32mtry\u001b[0m\u001b[1;33m:\u001b[0m\u001b[1;33m\u001b[0m\u001b[1;33m\u001b[0m\u001b[0m\n\u001b[1;32m--> 558\u001b[1;33m         \u001b[0mnp\u001b[0m\u001b[1;33m.\u001b[0m\u001b[0mtesting\u001b[0m\u001b[1;33m.\u001b[0m\u001b[0massert_allclose\u001b[0m\u001b[1;33m(\u001b[0m\u001b[0mmod\u001b[0m\u001b[1;33m,\u001b[0m \u001b[1;36m0\u001b[0m\u001b[1;33m,\u001b[0m \u001b[0matol\u001b[0m\u001b[1;33m=\u001b[0m\u001b[0matol\u001b[0m\u001b[1;33m)\u001b[0m\u001b[1;33m\u001b[0m\u001b[1;33m\u001b[0m\u001b[0m\n\u001b[0m\u001b[0;32m    559\u001b[0m     \u001b[1;32mexcept\u001b[0m \u001b[0mAssertionError\u001b[0m\u001b[1;33m:\u001b[0m\u001b[1;33m\u001b[0m\u001b[1;33m\u001b[0m\u001b[0m\n",
      "    \u001b[1;31m[... skipping hidden 1 frame]\u001b[0m\n",
      "\u001b[1;32mC:\\ProgramData\\Anaconda3\\lib\\site-packages\\numpy\\testing\\_private\\utils.py\u001b[0m in \u001b[0;36massert_array_compare\u001b[1;34m(comparison, x, y, err_msg, verbose, header, precision, equal_nan, equal_inf)\u001b[0m\n\u001b[0;32m    843\u001b[0m                                 names=('x', 'y'), precision=precision)\n\u001b[1;32m--> 844\u001b[1;33m             \u001b[1;32mraise\u001b[0m \u001b[0mAssertionError\u001b[0m\u001b[1;33m(\u001b[0m\u001b[0mmsg\u001b[0m\u001b[1;33m)\u001b[0m\u001b[1;33m\u001b[0m\u001b[1;33m\u001b[0m\u001b[0m\n\u001b[0m\u001b[0;32m    845\u001b[0m     \u001b[1;32mexcept\u001b[0m \u001b[0mValueError\u001b[0m\u001b[1;33m:\u001b[0m\u001b[1;33m\u001b[0m\u001b[1;33m\u001b[0m\u001b[0m\n",
      "\u001b[1;31mAssertionError\u001b[0m: \nNot equal to tolerance rtol=1e-07, atol=0.001\n\nMismatched elements: 10826 / 1310720 (0.826%)\nMax absolute difference: 0.02054958\nMax relative difference: inf\n x: array([[5.250464e-07, 6.371267e-07, 1.876747e-07, ..., 8.416282e-06,\n        6.842589e-05, 6.688514e-05],\n       [4.605842e-07, 5.497693e-07, 1.717914e-07, ..., 1.607428e-05,...\n y: array(0)",
      "\nDuring handling of the above exception, another exception occurred:\n",
      "\u001b[1;31mValueError\u001b[0m                                Traceback (most recent call last)",
      "\u001b[1;32m~\\AppData\\Local\\Temp\\ipykernel_11412\\2510235229.py\u001b[0m in \u001b[0;36m<module>\u001b[1;34m\u001b[0m\n\u001b[0;32m      1\u001b[0m \u001b[1;31m# Subpixel corner refinement\u001b[0m\u001b[1;33m\u001b[0m\u001b[1;33m\u001b[0m\u001b[0m\n\u001b[1;32m----> 2\u001b[1;33m \u001b[0mcorners\u001b[0m \u001b[1;33m=\u001b[0m \u001b[0mcorner_subpix\u001b[0m\u001b[1;33m(\u001b[0m\u001b[0mblur_img\u001b[0m\u001b[1;33m,\u001b[0m \u001b[0mcorners\u001b[0m\u001b[1;33m,\u001b[0m \u001b[0mwindow_size\u001b[0m\u001b[1;33m=\u001b[0m\u001b[1;36m13\u001b[0m\u001b[1;33m)\u001b[0m\u001b[1;33m\u001b[0m\u001b[1;33m\u001b[0m\u001b[0m\n\u001b[0m",
      "\u001b[1;32mC:\\ProgramData\\Anaconda3\\lib\\site-packages\\skimage\\feature\\corner.py\u001b[0m in \u001b[0;36mcorner_subpix\u001b[1;34m(image, corners, window_size, alpha)\u001b[0m\n\u001b[0;32m    908\u001b[0m \u001b[1;33m\u001b[0m\u001b[0m\n\u001b[0;32m    909\u001b[0m     \u001b[1;31m# add pad width, make sure to not modify the input values in-place\u001b[0m\u001b[1;33m\u001b[0m\u001b[1;33m\u001b[0m\u001b[0m\n\u001b[1;32m--> 910\u001b[1;33m     \u001b[0mcorners\u001b[0m \u001b[1;33m=\u001b[0m \u001b[0msafe_as_int\u001b[0m\u001b[1;33m(\u001b[0m\u001b[0mcorners\u001b[0m \u001b[1;33m+\u001b[0m \u001b[0mwext\u001b[0m\u001b[1;33m)\u001b[0m\u001b[1;33m\u001b[0m\u001b[1;33m\u001b[0m\u001b[0m\n\u001b[0m\u001b[0;32m    911\u001b[0m \u001b[1;33m\u001b[0m\u001b[0m\n\u001b[0;32m    912\u001b[0m     \u001b[1;31m# normal equation arrays\u001b[0m\u001b[1;33m\u001b[0m\u001b[1;33m\u001b[0m\u001b[0m\n",
      "\u001b[1;32mC:\\ProgramData\\Anaconda3\\lib\\site-packages\\skimage\\_shared\\utils.py\u001b[0m in \u001b[0;36msafe_as_int\u001b[1;34m(val, atol)\u001b[0m\n\u001b[0;32m    558\u001b[0m         \u001b[0mnp\u001b[0m\u001b[1;33m.\u001b[0m\u001b[0mtesting\u001b[0m\u001b[1;33m.\u001b[0m\u001b[0massert_allclose\u001b[0m\u001b[1;33m(\u001b[0m\u001b[0mmod\u001b[0m\u001b[1;33m,\u001b[0m \u001b[1;36m0\u001b[0m\u001b[1;33m,\u001b[0m \u001b[0matol\u001b[0m\u001b[1;33m=\u001b[0m\u001b[0matol\u001b[0m\u001b[1;33m)\u001b[0m\u001b[1;33m\u001b[0m\u001b[1;33m\u001b[0m\u001b[0m\n\u001b[0;32m    559\u001b[0m     \u001b[1;32mexcept\u001b[0m \u001b[0mAssertionError\u001b[0m\u001b[1;33m:\u001b[0m\u001b[1;33m\u001b[0m\u001b[1;33m\u001b[0m\u001b[0m\n\u001b[1;32m--> 560\u001b[1;33m         raise ValueError(f'Integer argument required but received '\n\u001b[0m\u001b[0;32m    561\u001b[0m                          f'{val}, check inputs.')\n\u001b[0;32m    562\u001b[0m \u001b[1;33m\u001b[0m\u001b[0m\n",
      "\u001b[1;31mValueError\u001b[0m: Integer argument required but received [[6.00000053 6.00000064 6.00000019 ... 6.00000842 6.00006843 6.00006689]\n [6.00000046 6.00000055 6.00000017 ... 6.00001607 6.00007406 6.00007295]\n [6.00000006 6.00000002 5.99999996 ... 6.00000559 6.00001937 6.00001446]\n ...\n [6.00000386 6.00000577 6.0000022  ... 6.00009409 6.00028678 6.00013333]\n [6.00002291 6.00002752 6.00000975 ... 6.00018904 6.00078531 6.00065471]\n [6.00002137 6.00002523 6.00000766 ... 6.00007072 6.00061196 6.00054102]], check inputs."
     ]
    }
   ],
   "source": [
    "# Subpixel corner refinement\n",
    "corners = corner_subpix(blur_img, corners, window_size=13)"
   ]
  },
  {
   "cell_type": "code",
   "execution_count": null,
   "id": "34d43d41",
   "metadata": {},
   "outputs": [],
   "source": [
    "# Find the peaks of the corners\n",
    "coords = corner_peaks(corners, min_distance=5)\n",
    "coords"
   ]
  },
  {
   "cell_type": "code",
   "execution_count": null,
   "id": "4caab433",
   "metadata": {},
   "outputs": [],
   "source": [
    "# Find contours\n",
    "contours, hierarchy = cv2.findContours(blur_img, cv2.RETR_TREE, cv2.CHAIN_APPROX_SIMPLE)\n",
    "print(contours, hierarchy)"
   ]
  },
  {
   "cell_type": "code",
   "execution_count": 10,
   "id": "69a96aed",
   "metadata": {},
   "outputs": [
    {
     "ename": "NameError",
     "evalue": "name 'contours' is not defined",
     "output_type": "error",
     "traceback": [
      "\u001b[1;31m---------------------------------------------------------------------------\u001b[0m",
      "\u001b[1;31mNameError\u001b[0m                                 Traceback (most recent call last)",
      "\u001b[1;32m~\\AppData\\Local\\Temp\\ipykernel_11412\\260001753.py\u001b[0m in \u001b[0;36m<module>\u001b[1;34m\u001b[0m\n\u001b[0;32m      1\u001b[0m \u001b[1;31m# Draw contours\u001b[0m\u001b[1;33m\u001b[0m\u001b[1;33m\u001b[0m\u001b[0m\n\u001b[1;32m----> 2\u001b[1;33m \u001b[0mcv2\u001b[0m\u001b[1;33m.\u001b[0m\u001b[0mdrawContours\u001b[0m\u001b[1;33m(\u001b[0m\u001b[0mimg\u001b[0m\u001b[1;33m,\u001b[0m \u001b[0mcontours\u001b[0m\u001b[1;33m,\u001b[0m \u001b[1;33m-\u001b[0m\u001b[1;36m1\u001b[0m\u001b[1;33m,\u001b[0m \u001b[1;33m(\u001b[0m\u001b[1;36m0\u001b[0m\u001b[1;33m,\u001b[0m \u001b[1;36m255\u001b[0m\u001b[1;33m,\u001b[0m \u001b[1;36m0\u001b[0m\u001b[1;33m)\u001b[0m\u001b[1;33m,\u001b[0m \u001b[1;36m2\u001b[0m\u001b[1;33m)\u001b[0m\u001b[1;33m\u001b[0m\u001b[1;33m\u001b[0m\u001b[0m\n\u001b[0m",
      "\u001b[1;31mNameError\u001b[0m: name 'contours' is not defined"
     ]
    }
   ],
   "source": [
    "# Draw contours\n",
    "cv2.drawContours(img, contours, -1, (0, 255, 0), 2)"
   ]
  },
  {
   "cell_type": "code",
   "execution_count": 11,
   "id": "a4850309",
   "metadata": {},
   "outputs": [
    {
     "ename": "AttributeError",
     "evalue": "module 'cv2' has no attribute 'xfeatures2d'",
     "output_type": "error",
     "traceback": [
      "\u001b[1;31m---------------------------------------------------------------------------\u001b[0m",
      "\u001b[1;31mAttributeError\u001b[0m                            Traceback (most recent call last)",
      "\u001b[1;32m~\\AppData\\Local\\Temp\\ipykernel_11412\\1164820651.py\u001b[0m in \u001b[0;36m<module>\u001b[1;34m\u001b[0m\n\u001b[0;32m      1\u001b[0m \u001b[1;31m# SIFT Feature Detection\u001b[0m\u001b[1;33m\u001b[0m\u001b[1;33m\u001b[0m\u001b[0m\n\u001b[1;32m----> 2\u001b[1;33m \u001b[0msift\u001b[0m \u001b[1;33m=\u001b[0m \u001b[0mcv2\u001b[0m\u001b[1;33m.\u001b[0m\u001b[0mxfeatures2d\u001b[0m\u001b[1;33m.\u001b[0m\u001b[0mSIFT_create\u001b[0m\u001b[1;33m(\u001b[0m\u001b[1;33m)\u001b[0m\u001b[1;33m\u001b[0m\u001b[1;33m\u001b[0m\u001b[0m\n\u001b[0m\u001b[0;32m      3\u001b[0m \u001b[0mkp\u001b[0m\u001b[1;33m,\u001b[0m \u001b[0mdes\u001b[0m \u001b[1;33m=\u001b[0m \u001b[0msift\u001b[0m\u001b[1;33m.\u001b[0m\u001b[0mdetectAndCompute\u001b[0m\u001b[1;33m(\u001b[0m\u001b[0mgray_img\u001b[0m\u001b[1;33m,\u001b[0m \u001b[1;32mNone\u001b[0m\u001b[1;33m)\u001b[0m\u001b[1;33m\u001b[0m\u001b[1;33m\u001b[0m\u001b[0m\n",
      "\u001b[1;31mAttributeError\u001b[0m: module 'cv2' has no attribute 'xfeatures2d'"
     ]
    }
   ],
   "source": [
    "# SIFT Feature Detection\n",
    "sift = cv2.xfeatures2d.SIFT_create()\n",
    "kp, des = sift.detectAndCompute(gray_img, None)"
   ]
  },
  {
   "cell_type": "code",
   "execution_count": 12,
   "id": "432960d6",
   "metadata": {},
   "outputs": [
    {
     "ename": "NameError",
     "evalue": "name 'kp' is not defined",
     "output_type": "error",
     "traceback": [
      "\u001b[1;31m---------------------------------------------------------------------------\u001b[0m",
      "\u001b[1;31mNameError\u001b[0m                                 Traceback (most recent call last)",
      "\u001b[1;32m~\\AppData\\Local\\Temp\\ipykernel_11412\\3371072982.py\u001b[0m in \u001b[0;36m<module>\u001b[1;34m\u001b[0m\n\u001b[0;32m      1\u001b[0m \u001b[1;31m# Draw keypoints on the image\u001b[0m\u001b[1;33m\u001b[0m\u001b[1;33m\u001b[0m\u001b[0m\n\u001b[1;32m----> 2\u001b[1;33m \u001b[0mimg_with_keypoints\u001b[0m \u001b[1;33m=\u001b[0m \u001b[0mcv2\u001b[0m\u001b[1;33m.\u001b[0m\u001b[0mdrawKeypoints\u001b[0m\u001b[1;33m(\u001b[0m\u001b[0mimg\u001b[0m\u001b[1;33m,\u001b[0m \u001b[0mkp\u001b[0m\u001b[1;33m,\u001b[0m \u001b[1;32mNone\u001b[0m\u001b[1;33m)\u001b[0m\u001b[1;33m\u001b[0m\u001b[1;33m\u001b[0m\u001b[0m\n\u001b[0m",
      "\u001b[1;31mNameError\u001b[0m: name 'kp' is not defined"
     ]
    }
   ],
   "source": [
    "# Draw keypoints on the image\n",
    "img_with_keypoints = cv2.drawKeypoints(img, kp, None)"
   ]
  },
  {
   "cell_type": "code",
   "execution_count": null,
   "id": "63c83ff6",
   "metadata": {},
   "outputs": [],
   "source": []
  },
  {
   "cell_type": "code",
   "execution_count": null,
   "id": "83abd6dc",
   "metadata": {},
   "outputs": [],
   "source": []
  },
  {
   "cell_type": "code",
   "execution_count": null,
   "id": "b1eed9b4",
   "metadata": {},
   "outputs": [],
   "source": []
  },
  {
   "cell_type": "code",
   "execution_count": null,
   "id": "e0c41e00",
   "metadata": {},
   "outputs": [],
   "source": []
  }
 ],
 "metadata": {
  "kernelspec": {
   "display_name": "Python 3 (ipykernel)",
   "language": "python",
   "name": "python3"
  },
  "language_info": {
   "codemirror_mode": {
    "name": "ipython",
    "version": 3
   },
   "file_extension": ".py",
   "mimetype": "text/x-python",
   "name": "python",
   "nbconvert_exporter": "python",
   "pygments_lexer": "ipython3",
   "version": "3.9.13"
  }
 },
 "nbformat": 4,
 "nbformat_minor": 5
}
