{
 "cells": [
  {
   "cell_type": "code",
   "execution_count": 11,
   "id": "2e746ec1",
   "metadata": {},
   "outputs": [],
   "source": [
    "import cv2"
   ]
  },
  {
   "cell_type": "code",
   "execution_count": 15,
   "id": "009131ca",
   "metadata": {},
   "outputs": [
    {
     "name": "stdout",
     "output_type": "stream",
     "text": [
      "(1280, 1024, 3)\n"
     ]
    }
   ],
   "source": [
    "\n",
    "# To read image from disk, we use\n",
    "# cv2.imread function, in below method,\n",
    "img = cv2.imread(\"Production Data/1444-312-A/1444-312-A_Img/0.jpg\", cv2.IMREAD_COLOR)\n",
    "# for  find image height,width,and channels(rgb or grayscale)\n",
    "img_shape=img.shape\n",
    "\n",
    "img_height=img_shape[0]\n",
    "img_width=img_shape[1]\n",
    "print(img_shape)"
   ]
  }
 ],
 "metadata": {
  "kernelspec": {
   "display_name": "Python 3 (ipykernel)",
   "language": "python",
   "name": "python3"
  },
  "language_info": {
   "codemirror_mode": {
    "name": "ipython",
    "version": 3
   },
   "file_extension": ".py",
   "mimetype": "text/x-python",
   "name": "python",
   "nbconvert_exporter": "python",
   "pygments_lexer": "ipython3",
   "version": "3.9.6"
  }
 },
 "nbformat": 4,
 "nbformat_minor": 5
}
