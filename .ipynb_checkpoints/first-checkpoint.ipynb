{
 "cells": [
  {
   "cell_type": "code",
   "execution_count": 24,
   "id": "2e746ec1",
   "metadata": {},
   "outputs": [],
   "source": [
    "import cv2\n",
    "from PIL import Image\n",
    "import skimage.measure\n",
    "import numpy as np\n"
   ]
  },
  {
   "cell_type": "code",
   "execution_count": 28,
   "id": "009131ca",
   "metadata": {},
   "outputs": [
    {
     "name": "stdout",
     "output_type": "stream",
     "text": [
      "[[[15 15 15]\n",
      "  [ 1  1  1]\n",
      "  [ 1  1  1]\n",
      "  ...\n",
      "  [15 15 15]\n",
      "  [15 15 15]\n",
      "  [15 15 15]]\n",
      "\n",
      " [[14 14 14]\n",
      "  [ 0  0  0]\n",
      "  [ 1  1  1]\n",
      "  ...\n",
      "  [13 13 13]\n",
      "  [13 13 13]\n",
      "  [14 14 14]]\n",
      "\n",
      " [[13 13 13]\n",
      "  [ 0  0  0]\n",
      "  [ 0  0  0]\n",
      "  ...\n",
      "  [12 12 12]\n",
      "  [12 12 12]\n",
      "  [13 13 13]]\n",
      "\n",
      " ...\n",
      "\n",
      " [[32 32 32]\n",
      "  [ 8  8  8]\n",
      "  [ 8  8  8]\n",
      "  ...\n",
      "  [32 32 32]\n",
      "  [33 33 33]\n",
      "  [33 33 33]]\n",
      "\n",
      " [[29 29 29]\n",
      "  [ 5  5  5]\n",
      "  [ 6  6  6]\n",
      "  ...\n",
      "  [30 30 30]\n",
      "  [30 30 30]\n",
      "  [30 30 30]]\n",
      "\n",
      " [[26 26 26]\n",
      "  [ 2  2  2]\n",
      "  [ 3  3  3]\n",
      "  ...\n",
      "  [26 26 26]\n",
      "  [26 26 26]\n",
      "  [25 25 25]]]\n"
     ]
    },
    {
     "ename": "ValueError",
     "evalue": "`block_size` must be a scalar or have the same length as `image.shape`",
     "output_type": "error",
     "traceback": [
      "\u001b[1;31m---------------------------------------------------------------------------\u001b[0m",
      "\u001b[1;31mValueError\u001b[0m                                Traceback (most recent call last)",
      "\u001b[1;32m~\\AppData\\Local\\Temp/ipykernel_9360/368182262.py\u001b[0m in \u001b[0;36m<module>\u001b[1;34m\u001b[0m\n\u001b[0;32m     15\u001b[0m \u001b[1;33m\u001b[0m\u001b[0m\n\u001b[0;32m     16\u001b[0m \u001b[1;31m# for pooling\u001b[0m\u001b[1;33m\u001b[0m\u001b[1;33m\u001b[0m\u001b[1;33m\u001b[0m\u001b[0m\n\u001b[1;32m---> 17\u001b[1;33m \u001b[0mpoolimg\u001b[0m\u001b[1;33m=\u001b[0m\u001b[0mskimage\u001b[0m\u001b[1;33m.\u001b[0m\u001b[0mmeasure\u001b[0m\u001b[1;33m.\u001b[0m\u001b[0mblock_reduce\u001b[0m\u001b[1;33m(\u001b[0m\u001b[0mimg\u001b[0m\u001b[1;33m,\u001b[0m \u001b[1;33m(\u001b[0m\u001b[1;36m3\u001b[0m\u001b[1;33m,\u001b[0m\u001b[1;36m3\u001b[0m\u001b[1;33m)\u001b[0m\u001b[1;33m,\u001b[0m \u001b[0mnp\u001b[0m\u001b[1;33m.\u001b[0m\u001b[0mmax\u001b[0m\u001b[1;33m)\u001b[0m\u001b[1;33m\u001b[0m\u001b[1;33m\u001b[0m\u001b[0m\n\u001b[0m\u001b[0;32m     18\u001b[0m \u001b[0mpilimg\u001b[0m\u001b[1;33m=\u001b[0m\u001b[0mImage\u001b[0m\u001b[1;33m.\u001b[0m\u001b[0mfromarray\u001b[0m\u001b[1;33m(\u001b[0m\u001b[0mimg\u001b[0m\u001b[1;33m)\u001b[0m\u001b[1;33m\u001b[0m\u001b[1;33m\u001b[0m\u001b[0m\n\u001b[0;32m     19\u001b[0m \u001b[0mpilimg\u001b[0m\u001b[1;33m.\u001b[0m\u001b[0mshow\u001b[0m\u001b[1;33m(\u001b[0m\u001b[1;33m)\u001b[0m\u001b[1;33m\u001b[0m\u001b[1;33m\u001b[0m\u001b[0m\n",
      "\u001b[1;32mc:\\python39\\lib\\site-packages\\skimage\\measure\\block.py\u001b[0m in \u001b[0;36mblock_reduce\u001b[1;34m(image, block_size, func, cval, func_kwargs)\u001b[0m\n\u001b[0;32m     64\u001b[0m         \u001b[0mblock_size\u001b[0m \u001b[1;33m=\u001b[0m \u001b[1;33m(\u001b[0m\u001b[0mblock_size\u001b[0m\u001b[1;33m,\u001b[0m\u001b[1;33m)\u001b[0m \u001b[1;33m*\u001b[0m \u001b[0mimage\u001b[0m\u001b[1;33m.\u001b[0m\u001b[0mndim\u001b[0m\u001b[1;33m\u001b[0m\u001b[1;33m\u001b[0m\u001b[0m\n\u001b[0;32m     65\u001b[0m     \u001b[1;32melif\u001b[0m \u001b[0mlen\u001b[0m\u001b[1;33m(\u001b[0m\u001b[0mblock_size\u001b[0m\u001b[1;33m)\u001b[0m \u001b[1;33m!=\u001b[0m \u001b[0mimage\u001b[0m\u001b[1;33m.\u001b[0m\u001b[0mndim\u001b[0m\u001b[1;33m:\u001b[0m\u001b[1;33m\u001b[0m\u001b[1;33m\u001b[0m\u001b[0m\n\u001b[1;32m---> 66\u001b[1;33m         raise ValueError(\"`block_size` must be a scalar or have \"\n\u001b[0m\u001b[0;32m     67\u001b[0m                          \"the same length as `image.shape`\")\n\u001b[0;32m     68\u001b[0m \u001b[1;33m\u001b[0m\u001b[0m\n",
      "\u001b[1;31mValueError\u001b[0m: `block_size` must be a scalar or have the same length as `image.shape`"
     ]
    }
   ],
   "source": [
    "\n",
    "# To read image from disk, we use\n",
    "# cv2.imread function, in below method,\n",
    "img = cv2.imread(\"Production Data/1444-312-A/1444-312-A_Img/0.jpg\", cv2.IMREAD_COLOR)\n",
    "# for  find image height,width,and channels(rgb or grayscale)\n",
    "print(img)\n",
    "img_shape=img.shape\n",
    "\n",
    "\n",
    "img_height=img_shape[0]\n",
    "img_width=img_shape[1]\n",
    "\n",
    "pilimg=Image.fromarray(img)\n",
    "pilimg.show()\n",
    "\n",
    "\n",
    "# for pooling\n",
    "poolimg=skimage.measure.block_reduce(img, (3,3), np.max)\n",
    "pilimg=Image.fromarray(img)\n",
    "pilimg.show()"
   ]
  },
  {
   "cell_type": "code",
   "execution_count": null,
   "id": "03dc0c56",
   "metadata": {},
   "outputs": [],
   "source": []
  }
 ],
 "metadata": {
  "kernelspec": {
   "display_name": "Python 3 (ipykernel)",
   "language": "python",
   "name": "python3"
  },
  "language_info": {
   "codemirror_mode": {
    "name": "ipython",
    "version": 3
   },
   "file_extension": ".py",
   "mimetype": "text/x-python",
   "name": "python",
   "nbconvert_exporter": "python",
   "pygments_lexer": "ipython3",
   "version": "3.9.6"
  }
 },
 "nbformat": 4,
 "nbformat_minor": 5
}
